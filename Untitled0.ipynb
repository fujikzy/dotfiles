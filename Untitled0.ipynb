{
 "metadata": {
  "name": "",
  "signature": "sha256:3d0f92bbd04ba858c36c5cc0d591d8ce7508782daa5160bce542e61776255397"
 },
 "nbformat": 3,
 "nbformat_minor": 0,
 "worksheets": []
}